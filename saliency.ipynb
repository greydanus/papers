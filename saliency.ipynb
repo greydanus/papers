{
 "cells": [
  {
   "cell_type": "markdown",
   "metadata": {},
   "source": [
    "# Saliency Papers\n",
    "Sam Greydanus | 2017 | MIT License\n",
    "\n",
    "## Summary\n",
    "\n",
    "Year | Author | Name | Keywords\n",
    ":--- | :--- | :---: | :---:\n",
    "2014 | Simonyan et al. | [Deep Inside Convolutional Networks: Visualising Image Classification Models and Saliency Maps](https://arxiv.org/abs/1312.6034) | saliency (orig. paper)\n",
    "2014 | Zeiler, Fergus | [Visualizing and Understanding Convolutional Networks](https://arxiv.org/abs/1311.2901) | saliency, ablation study\n",
    "2015 | Springenberg et al. | [Striving for Simplicity: the All Convolutional Net](https://arxiv.org/abs/1412.6806) | guided backpropagation\n",
    "2015 | Bach et al. | [On Pixel-Wise Explanations for Non-Linear Classifier Decisions by Layer-Wise Relevance Propagation](http://journals.plos.org/plosone/article?id=10.1371/journal.pone.0130140) | layer-wise relevance propagation (LRP)\n",
    "2016 | Karpathy et al. | [Visualizing and Understanding Recurrent Networks](https://arxiv.org/abs/1506.02078v2) | visualization, LSTMs, RNNs, error analysis\n",
    "2016 | Ziyu et al. | [Dueling Network Architectures for Deep Reinforcement Learning](https://arxiv.org/abs/1511.06581) | saliency, atari, [video](http://torch.ch/blog/2016/04/30/dueling_dqn.html) \n",
    "2016 | Zahavy | [Graying the black box: Understanding DQNs](https://arxiv.org/abs/1602.02658) | atari, saliency, markov models\n",
    "2016 | Zhang et al. | [Top-down Neural Attention by Excitation Backprop](https://arxiv.org/abs/1608.00507) | excitation backprop\n",
    "2017 | Shrikumar et al. | [Learning Important Features Through Propagating Activation Differences](http://proceedings.mlr.press/v70/shrikumar17a/shrikumar17a.pdf) | DeepLIFT, decision boundaries\n",
    "2017 | Montavon et al. | [Explaining NonLinear Classification Decisions with Deep Taylor Decomposition](https://arxiv.org/abs/1512.02479) | deep taylor decomposition, LRP"
   ]
  },
  {
   "cell_type": "markdown",
   "metadata": {},
   "source": [
    "## [Visualizing and Understaning Atari Agents]()\n",
    "Sam Greydanus\n",
    "\n",
    "**Curated abstract.** \n",
    "\n",
    "<img src=\"./xpong.png\" alt=\"Pong policy visualization\" style=\"width: 400px;\"/>\n",
    "\n",
    "**Math.** \n",
    "\n",
    "**Pros.**\n",
    "\n",
    "**Cons.**"
   ]
  },
  {
   "cell_type": "markdown",
   "metadata": {},
   "source": [
    "## [Visualizing and Understanding Recurrent Networks](https://arxiv.org/abs/1506.02078v2)\n",
    "Karpathy, Johnson, and Fei-Fei\n",
    "\n",
    "**Curated abstract.** Performance and limitations of RNNs are poorly understood. Using character-level language models as a testbed, authors analyze the internal representations, predictions and error types. Results include: 1) existence of interpretable cells that track long-range dependencies such as line lengths, quotes and brackets. 2) comparative analysis with finite horizon n-gram models shows LSTM improvements are due to longer time horizon. 3) analysis of the remaining errors with a pie chart error breakdown.\n",
    "\n",
    "<img src=\"./karpathy-rnns.png\" alt=\"Karpathy RNN error sources\" style=\"width: 750px;\"/>\n",
    "\n",
    "**Math.** \n",
    "\n",
    "**Pros.**\n",
    "\n",
    "**Cons.**"
   ]
  },
  {
   "cell_type": "markdown",
   "metadata": {},
   "source": [
    "## [Explaining NonLinear Classification Decisions with Deep Taylor Decomposition](https://arxiv.org/abs/1512.02479)\n",
    "Montavon, Bach, Binder, Samek, Müller\n",
    "\n",
    "**Math.**\n",
    "\n",
    "**Words.**\n",
    "\n",
    "**Pros.**\n",
    "\n",
    "**Cons.**"
   ]
  },
  {
   "cell_type": "markdown",
   "metadata": {
    "collapsed": true
   },
   "source": [
    "## [Striving for Simplicity: the All Convolutional Net](https://arxiv.org/abs/1412.6806)\n",
    "Springenberg, Dosovitskiy, Brox, Riedmiller\n",
    "\n",
    "**Math.**\n",
    "\n",
    "**Words.**\n",
    "\n",
    "**Pros.**\n",
    "\n",
    "**Cons.**"
   ]
  },
  {
   "cell_type": "markdown",
   "metadata": {},
   "source": [
    "## [Graying the black box: Understanding DQNs](https://arxiv.org/abs/1602.02658)\n",
    "Zahavy, Baram, Mannor\n",
    "\n",
    "**Math.**\n",
    "\n",
    "**Words.**\n",
    "\n",
    "**Pros.**\n",
    "\n",
    "**Cons.**"
   ]
  },
  {
   "cell_type": "code",
   "execution_count": null,
   "metadata": {
    "collapsed": true
   },
   "outputs": [],
   "source": []
  }
 ],
 "metadata": {
  "kernelspec": {
   "display_name": "Python 3",
   "language": "python",
   "name": "python3"
  },
  "language_info": {
   "codemirror_mode": {
    "name": "ipython",
    "version": 3
   },
   "file_extension": ".py",
   "mimetype": "text/x-python",
   "name": "python",
   "nbconvert_exporter": "python",
   "pygments_lexer": "ipython3",
   "version": "3.6.1"
  }
 },
 "nbformat": 4,
 "nbformat_minor": 2
}
